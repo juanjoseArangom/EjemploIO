{
  "nbformat": 4,
  "nbformat_minor": 0,
  "metadata": {
    "colab": {
      "provenance": [],
      "authorship_tag": "ABX9TyP0d6Wfn9QxeWLwY5UxX6rZ",
      "include_colab_link": true
    },
    "kernelspec": {
      "name": "python3",
      "display_name": "Python 3"
    },
    "language_info": {
      "name": "python"
    }
  },
  "cells": [
    {
      "cell_type": "markdown",
      "metadata": {
        "id": "view-in-github",
        "colab_type": "text"
      },
      "source": [
        "<a href=\"https://colab.research.google.com/github/juanjoseArangom/EjemploIO/blob/main/InvOpe.ipynb\" target=\"_parent\"><img src=\"https://colab.research.google.com/assets/colab-badge.svg\" alt=\"Open In Colab\"/></a>"
      ]
    },
    {
      "cell_type": "markdown",
      "source": [
        "Hola soy **Juan** *Arango*"
      ],
      "metadata": {
        "id": "WIjECaluAe_a"
      }
    },
    {
      "cell_type": "code",
      "execution_count": 2,
      "metadata": {
        "id": "UhnjdipS_brX"
      },
      "outputs": [],
      "source": [
        "print(\"Hello Juice WRLD\")"
      ]
    },
    {
      "cell_type": "markdown",
      "source": [
        "Subtítulo principal\n"
      ],
      "metadata": {
        "id": "BH8tm7l2BUa6"
      }
    },
    {
      "cell_type": "markdown",
      "source": [
        "Subtítulo secundario"
      ],
      "metadata": {
        "id": "OTDOoqZJBYqq"
      }
    }
  ]
}